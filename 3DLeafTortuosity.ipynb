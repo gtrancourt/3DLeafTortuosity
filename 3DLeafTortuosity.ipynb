{
 "cells": [
  {
   "cell_type": "markdown",
   "metadata": {},
   "source": [
    "# Computing leaf tortuosity from segmented leaf microCT stacks\n",
    "## Using the method in Earles et al. (to be submitted)\n",
    "\n",
    "__Created__ on 2018-03-21 by Guillaume Théroux-Rancourt (guillaume.theroux-rancourt@boku.ac.at)\n",
    "\n",
    "__Last edited__ on 2018-03-21 by Guillaume Théroux-Rancourt\n",
    "\n",
    "To compute the geodesic distance, you need to install [the geodesic functions here](https://github.com/taigw/geodesic_distance)."
   ]
  },
  {
   "cell_type": "code",
   "execution_count": 17,
   "metadata": {},
   "outputs": [],
   "source": [
    "import skimage.io as io\n",
    "from skimage import img_as_int, img_as_ubyte, img_as_float, feature, measure, color, morphology, filters\n",
    "import numpy as np\n",
    "from scipy import ndimage\n",
    "from scipy.ndimage.morphology import distance_transform_edt\n",
    "import geodesic_distance as gd\n",
    "import random\n",
    "import cv2\n",
    "import matplotlib.pyplot as plt\n",
    "from skimage.util import invert\n",
    "import skfmm"
   ]
  },
  {
   "cell_type": "code",
   "execution_count": 3,
   "metadata": {},
   "outputs": [],
   "source": [
    "# Create convenience functions\n",
    "\n",
    "def Threshold(input_img, Th_value):\n",
    "    tmp = np.zeros(input_img.shape, dtype=np.float32)\n",
    "    if isinstance(Th_value, int):\n",
    "        tmp[input_img == Th_value] = 1\n",
    "    else:\n",
    "        if isinstance(Th_value, float):\n",
    "            tmp[input_img > 0. & input_img < 1.] = 1\n",
    "        else:\n",
    "            for i in range(len(Th_value)):\n",
    "                tmp[input_img == Th_value[i]] = 1\n",
    "    return tmp \n",
    "\n",
    "def DisplayRndSlices(input_img, nb_of_slices):\n",
    "    for i in random.sample(range(input_img.shape[0]), nb_of_slices):\n",
    "        io.imshow(input_img[i,:,:])\n",
    "        io.show()\n",
    "\n",
    "# EdgeDetector3D detects the edge and is not equivalent to ImageJ's Binary > Outline if used on the airspace stack\n",
    "# There's a Gaussian filter beging applied (sigma=). Using a low value doesn't necessarily close the edges.\n",
    "# So, a better function should be implkemented\n",
    "# Speed is ok but there is room for improvement\n",
    "# see here for potential solution: https://stackoverflow.com/questions/29434533/edge-detection-for-image-stored-in-matrix\n",
    "def EdgeDetector3D(input_img):\n",
    "    tmp = np.zeros(input_img.shape)  \n",
    "    for i in range(input_img.shape[0]):\n",
    "        tmp[i,:,:] = feature.canny(input_img[i,:,:], sigma=0.33)\n",
    "    return tmp\n",
    "\n",
    "# Better solution I found so far, but the edge is 2 pixel wide, i.e. going over both the airspace and non-airspace\n",
    "# from https://stackoverflow.com/questions/29434533/edge-detection-for-image-stored-in-matrix\n",
    "# Assumes you have a binary image\n",
    "# TO DO:\n",
    "# - Find a way to have only one pixel wide\n",
    "# - Get rid of creating a color image\n",
    "# - Get it into a 8-bit. It seems to be stuck to int64\n",
    "def Outline2D(input_img):\n",
    "    img_raw = input_img\n",
    "    img_zero = np.zeros_like(img_raw, dtype=np.uint8)\n",
    "    img = np.zeros_like(img_raw, dtype=np.uint8)\n",
    "    img[:,:] = 128\n",
    "    img[ img_raw < 0.25 ] = 0\n",
    "    img[ img_raw > 0.75 ] = 255\n",
    "    # define \"next to\" - this may be a square, diamond, etc\n",
    "    selem = morphology.square(2)\n",
    "    # create masks for the two kinds of edges\n",
    "    black_white_edges = (filters.rank.minimum(img, selem) == 0) & (filters.rank.maximum(img, selem) == 255)\n",
    "    # create a color image\n",
    "    img_result = np.dstack( [img_zero,img_zero,img_zero] )    \n",
    "    # assign colors to edge masks\n",
    "    img_result[ black_white_edges, : ] = np.asarray( [ 0, 255, 0 ] )\n",
    "    img_result = color.rgb2gray(img_result) * 255\n",
    "    img_result = img_result.astype(np.uint8)    \n",
    "    return img_result\n",
    "\n",
    "def Outline3D(input_img):\n",
    "    tmp = np.zeros(input_img.shape)  \n",
    "    for i in range(input_img.shape[0]):\n",
    "        tmp[i,:,:] = Outline2D(input_img[i,:,:])\n",
    "    return tmp\n",
    "    "
   ]
  },
  {
   "cell_type": "markdown",
   "metadata": {},
   "source": [
    "### Image Loading and Pre-processing"
   ]
  },
  {
   "cell_type": "code",
   "execution_count": 4,
   "metadata": {},
   "outputs": [],
   "source": [
    "# Set path to tiff stacks\n",
    "filepath = '/Volumes/HD_1/LeafAir-WorkDir/_Ferns/Dennstaedtia-cicutaria/'"
   ]
  },
  {
   "cell_type": "code",
   "execution_count": 5,
   "metadata": {},
   "outputs": [
    {
     "name": "stdout",
     "output_type": "stream",
     "text": [
      "(400, 120, 924)\n",
      "[  0  85 152 170 255]\n"
     ]
    },
    {
     "data": {
      "image/png": "[encoded data removed]",
      "text/plain": [
       "<matplotlib.figure.Figure at 0x10b0fb790>"
      ]
     },
     "metadata": {},
     "output_type": "display_data"
    },
    {
     "data": {
      "image/png": "[encoded data removed]",
      "text/plain": [
       "<matplotlib.figure.Figure at 0x1c29554350>"
      ]
     },
     "metadata": {},
     "output_type": "display_data"
    },
    {
     "data": {
      "image/png": "[encoded data removed]",
      "text/plain": [
       "<matplotlib.figure.Figure at 0x1c16f2a690>"
      ]
     },
     "metadata": {},
     "output_type": "display_data"
    },
    {
     "data": {
      "image/png": "[encoded data removed]",
      "text/plain": [
       "<matplotlib.figure.Figure at 0x1c296b61d0>"
      ]
     },
     "metadata": {},
     "output_type": "display_data"
    }
   ],
   "source": [
    "# Read composite stack including slabelling of stomata\n",
    "composite_stack = io.imread(filepath + 'Dennstaedtia-cicutaria-COMPOSITE-topLeaf-cropped-w-stomata.tif')\n",
    "# outline_stack = io.read(filepath + )\n",
    "print(composite_stack.shape)\n",
    "print(np.unique(composite_stack)) # to get all the unique values\n",
    "\n",
    "# show a few slices\n",
    "for i in random.sample(range(composite_stack.shape[0]), 4):\n",
    "    io.imshow(composite_stack[i,:,:])\n",
    "    io.show()\n"
   ]
  },
  {
   "cell_type": "code",
   "execution_count": 6,
   "metadata": {},
   "outputs": [
    {
     "name": "stdout",
     "output_type": "stream",
     "text": [
      "[0 1]\n",
      "float32\n",
      "uint8\n"
     ]
    },
    {
     "data": {
      "image/png": "[encoded data removed]",
      "text/plain": [
       "<matplotlib.figure.Figure at 0x1c29799c10>"
      ]
     },
     "metadata": {},
     "output_type": "display_data"
    },
    {
     "data": {
      "image/png": "[encoded data removed]",
      "text/plain": [
       "<matplotlib.figure.Figure at 0x1c56837e90>"
      ]
     },
     "metadata": {},
     "output_type": "display_data"
    },
    {
     "data": {
      "image/png": "[encoded data removed]",
      "text/plain": [
       "<matplotlib.figure.Figure at 0x1c5689fad0>"
      ]
     },
     "metadata": {},
     "output_type": "display_data"
    },
    {
     "data": {
      "image/png": "[encoded data removed]",
      "text/plain": [
       "<matplotlib.figure.Figure at 0x1c569fefd0>"
      ]
     },
     "metadata": {},
     "output_type": "display_data"
    },
    {
     "data": {
      "image/png": "[encoded data removed]",
      "text/plain": [
       "<matplotlib.figure.Figure at 0x1c56b0a090>"
      ]
     },
     "metadata": {},
     "output_type": "display_data"
    },
    {
     "data": {
      "image/png": "[encoded data removed]",
      "text/plain": [
       "<matplotlib.figure.Figure at 0x1c56c64710>"
      ]
     },
     "metadata": {},
     "output_type": "display_data"
    },
    {
     "data": {
      "image/png": "[encoded data removed]",
      "text/plain": [
       "<matplotlib.figure.Figure at 0x1c56c87e90>"
      ]
     },
     "metadata": {},
     "output_type": "display_data"
    },
    {
     "data": {
      "image/png": "[encoded data removed]",
      "text/plain": [
       "<matplotlib.figure.Figure at 0x1c56b3a8d0>"
      ]
     },
     "metadata": {},
     "output_type": "display_data"
    }
   ],
   "source": [
    "# Create the binary stacks needed for the analysis\n",
    "mesophyll_wo_veins_stack = np.asarray(Threshold(composite_stack, [0,255]), np.float32)\n",
    "mesophyll_stack = np.asarray(Threshold(composite_stack, [0,170,255]), np.float32)\n",
    "cell_stack = np.asarray(Threshold(composite_stack, [0,170,152]), np.float32)\n",
    "airspace_stack = np.asarray(Threshold(composite_stack, 255), np.float32)\n",
    "stomata_stack = np.asarray(Threshold(composite_stack, 85), np.uint8)\n",
    "print(np.unique(stomata_stack))\n",
    "print(airspace_stack.dtype)\n",
    "print(stomata_stack.dtype)\n",
    "\n",
    "DisplayRndSlices(airspace_stack, 2)\n",
    "DisplayRndSlices(cell_stack, 2)\n",
    "DisplayRndSlices(mesophyll_wo_veins_stack, 2)\n",
    "DisplayRndSlices(mesophyll_stack, 2)"
   ]
  },
  {
   "cell_type": "code",
   "execution_count": 23,
   "metadata": {},
   "outputs": [
    {
     "data": {
      "image/png": "[encoded data removed]",
      "text/plain": [
       "<matplotlib.figure.Figure at 0x1c245a8250>"
      ]
     },
     "metadata": {},
     "output_type": "display_data"
    },
    {
     "data": {
      "image/png": "[encoded data removed]",
      "text/plain": [
       "<matplotlib.figure.Figure at 0x1c1ebcec90>"
      ]
     },
     "metadata": {},
     "output_type": "display_data"
    },
    {
     "data": {
      "image/png": "[encoded data removed]",
      "text/plain": [
       "<matplotlib.figure.Figure at 0x1c29612e50>"
      ]
     },
     "metadata": {},
     "output_type": "display_data"
    },
    {
     "data": {
      "image/png": "[encoded data removed]",
      "text/plain": [
       "<matplotlib.figure.Figure at 0x1c269f8ed0>"
      ]
     },
     "metadata": {},
     "output_type": "display_data"
    }
   ],
   "source": [
    "# Detect edges of airspace\n",
    "\n",
    "airspace_outline = Outline3D(airspace_stack)\n",
    "\n",
    "DisplayRndSlices(airspace_outline, 4)\n",
    "\n",
    "# cell_outline = EdgeDetector3D(cell_stack)\n",
    "# airspace_outline = EdgeDetector3D(airspace_stack)\n",
    "# epidermis_edge = EdgeDetector3D(mesophyll_stack)\n",
    "# airspace_outline = Outline3D(airspace_stack)\n",
    "# DisplayRndSlices(airspace_outline, 5)\n",
    "# DisplayRndSlices(epidermis_edge, 5)\n",
    "# io.imsave(filepath + '_airspace-outline.tif', img_as_ubyte(airspace_outline))\n",
    "# io.imsave(filepath + '_cell-outline.tif', img_as_ubyte(cell_outline))\n",
    "# io.imsave(filepath + 'epidermis-outline.tif', img_as_ubyte(epidermis_edge))"
   ]
  },
  {
   "cell_type": "code",
   "execution_count": null,
   "metadata": {},
   "outputs": [],
   "source": [
    "# Get the distance maps\n",
    "\n",
    "mask = np.ma.MaskedArray(airspace_stack)"
   ]
  },
  {
   "cell_type": "code",
   "execution_count": null,
   "metadata": {},
   "outputs": [],
   "source": [
    "#toto = distance_transform_edt(invert(stomata_stack))\n",
    "toto = skfmm.distance(invert(airspace_outline))\n",
    "# L_geo = gd.geodesic3d_fast_marching(airspace_stack,stomata_stack)\n",
    "# #L_geo = gd.geodesic3d_raster_scan(airspace_stack,stomata_stack,1,4)\n",
    "\n",
    "DisplayRndSlices(toto, 2)"
   ]
  },
  {
   "cell_type": "code",
   "execution_count": 15,
   "metadata": {},
   "outputs": [
    {
     "name": "stdout",
     "output_type": "stream",
     "text": [
      "[[[  1.00000000e+00   1.41421356e+00   2.23606798e+00 ...,   9.21000543e+02\n",
      "     9.22000542e+02   9.23000542e+02]\n",
      "  [  1.41421356e+00   1.73205081e+00   2.44948974e+00 ...,   9.21001086e+02\n",
      "     9.22001085e+02   9.23001083e+02]\n",
      "  [  2.23606798e+00   2.44948974e+00   3.00000000e+00 ...,   9.21002714e+02\n",
      "     9.22002711e+02   9.23002709e+02]\n",
      "  ..., \n",
      "  [  1.17004273e+02   1.17008547e+02   1.17021366e+02 ...,   9.28402391e+02\n",
      "     9.29394426e+02   9.30386479e+02]\n",
      "  [  1.18004237e+02   1.18008474e+02   1.18021185e+02 ...,   9.28528944e+02\n",
      "     9.29520844e+02   9.30512762e+02]\n",
      "  [  1.19004202e+02   1.19008403e+02   1.19021007e+02 ...,   9.28656557e+02\n",
      "     9.29648321e+02   9.30640102e+02]]\n",
      "\n",
      " [[  2.00000000e+00   2.23606798e+00   2.82842712e+00 ...,   9.21002172e+02\n",
      "     9.22002169e+02   9.23002167e+02]\n",
      "  [  2.23606798e+00   2.44948974e+00   3.00000000e+00 ...,   9.21002714e+02\n",
      "     9.22002711e+02   9.23002709e+02]\n",
      "  [  2.82842712e+00   3.00000000e+00   3.46410162e+00 ...,   9.21004343e+02\n",
      "     9.22004338e+02   9.23004334e+02]\n",
      "  ..., \n",
      "  [  1.17017093e+02   1.17021366e+02   1.17034183e+02 ...,   9.28404007e+02\n",
      "     9.29396040e+02   9.30388091e+02]\n",
      "  [  1.18016948e+02   1.18021185e+02   1.18033893e+02 ...,   9.28530560e+02\n",
      "     9.29522458e+02   9.30514374e+02]\n",
      "  [  1.19016806e+02   1.19021007e+02   1.19033609e+02 ...,   9.28658172e+02\n",
      "     9.29649934e+02   9.30641714e+02]]\n",
      "\n",
      " [[  3.00000000e+00   3.16227766e+00   3.60555128e+00 ...,   9.21004886e+02\n",
      "     9.22004881e+02   9.23004875e+02]\n",
      "  [  3.16227766e+00   3.31662479e+00   3.74165739e+00 ...,   9.21005429e+02\n",
      "     9.22005423e+02   9.23005417e+02]\n",
      "  [  3.60555128e+00   3.74165739e+00   4.12310563e+00 ...,   9.21007058e+02\n",
      "     9.22007050e+02   9.23007042e+02]\n",
      "  ..., \n",
      "  [  1.17038455e+02   1.17042727e+02   1.17055542e+02 ...,   9.28406700e+02\n",
      "     9.29398730e+02   9.30390778e+02]\n",
      "  [  1.18038129e+02   1.18042365e+02   1.18055072e+02 ...,   9.28533252e+02\n",
      "     9.29525148e+02   9.30517061e+02]\n",
      "  [  1.19037809e+02   1.19042009e+02   1.19054609e+02 ...,   9.28660864e+02\n",
      "     9.29652623e+02   9.30644400e+02]]\n",
      "\n",
      " ..., \n",
      " [[  3.98000000e+02   3.98001256e+02   3.98005025e+02 ...,   1.00331700e+03\n",
      "     1.00423503e+03   1.00515322e+03]\n",
      "  [  3.98001256e+02   3.98002513e+02   3.98006281e+02 ...,   1.00331750e+03\n",
      "     1.00423553e+03   1.00515372e+03]\n",
      "  [  3.98005025e+02   3.98006281e+02   3.98010050e+02 ...,   1.00331899e+03\n",
      "     1.00423702e+03   1.00515521e+03]\n",
      "  ..., \n",
      "  [  4.14840933e+02   4.14842139e+02   4.14845754e+02 ...,   1.01011583e+03\n",
      "     1.01102769e+03   1.01193972e+03]\n",
      "  [  4.15124078e+02   4.15125282e+02   4.15128896e+02 ...,   1.01023215e+03\n",
      "     1.01114391e+03   1.01205583e+03]\n",
      "  [  4.15409437e+02   4.15410640e+02   4.15414251e+02 ...,   1.01034944e+03\n",
      "     1.01126109e+03   1.01217291e+03]]\n",
      "\n",
      " [[  3.99000000e+02   3.99001253e+02   3.99005012e+02 ...,   1.00371410e+03\n",
      "     1.00463177e+03   1.00554960e+03]\n",
      "  [  3.99001253e+02   3.99002506e+02   3.99006266e+02 ...,   1.00371460e+03\n",
      "     1.00463227e+03   1.00555010e+03]\n",
      "  [  3.99005012e+02   3.99006266e+02   3.99010025e+02 ...,   1.00371610e+03\n",
      "     1.00463376e+03   1.00555159e+03]\n",
      "  ..., \n",
      "  [  4.15800433e+02   4.15801635e+02   4.15805243e+02 ...,   1.01051027e+03\n",
      "     1.01142177e+03   1.01233344e+03]\n",
      "  [  4.16082924e+02   4.16084126e+02   4.16087731e+02 ...,   1.01062654e+03\n",
      "     1.01153794e+03   1.01244950e+03]\n",
      "  [  4.16367626e+02   4.16368827e+02   4.16372429e+02 ...,   1.01074379e+03\n",
      "     1.01165508e+03   1.01256654e+03]]\n",
      "\n",
      " [[  4.00000000e+02   4.00001250e+02   4.00005000e+02 ...,   1.00411205e+03\n",
      "     1.00502935e+03   1.00594682e+03]\n",
      "  [  4.00001250e+02   4.00002500e+02   4.00006250e+02 ...,   1.00411254e+03\n",
      "     1.00502985e+03   1.00594731e+03]\n",
      "  [  4.00005000e+02   4.00006250e+02   4.00010000e+02 ...,   1.00411404e+03\n",
      "     1.00503134e+03   1.00594881e+03]\n",
      "  ..., \n",
      "  [  4.16760123e+02   4.16761323e+02   4.16764922e+02 ...,   1.01090553e+03\n",
      "     1.01181668e+03   1.01272800e+03]\n",
      "  [  4.17041964e+02   4.17043163e+02   4.17046760e+02 ...,   1.01102176e+03\n",
      "     1.01193280e+03   1.01284402e+03]\n",
      "  [  4.17326012e+02   4.17327210e+02   4.17330804e+02 ...,   1.01113896e+03\n",
      "     1.01204990e+03   1.01296101e+03]]]\n"
     ]
    }
   ],
   "source": [
    "print(toto)"
   ]
  },
  {
   "cell_type": "markdown",
   "metadata": {},
   "source": [
    "# Works up to this point"
   ]
  },
  {
   "cell_type": "code",
   "execution_count": 65,
   "metadata": {},
   "outputs": [
    {
     "name": "stdout",
     "output_type": "stream",
     "text": [
      "[[ 0.  0.  0. ...,  0.  0.  0.]\n",
      " [ 0.  0.  0. ...,  0.  0.  0.]\n",
      " [ 0.  0.  0. ...,  0.  0.  0.]\n",
      " ..., \n",
      " [ 0.  0.  0. ...,  0.  0.  0.]\n",
      " [ 0.  0.  0. ...,  0.  0.  0.]\n",
      " [ 0.  0.  0. ...,  0.  0.  0.]]\n"
     ]
    },
    {
     "data": {
      "image/png": "[encoded data removed]",
      "text/plain": [
       "<matplotlib.figure.Figure at 0x1c1fd7a090>"
      ]
     },
     "metadata": {},
     "output_type": "display_data"
    }
   ],
   "source": [
    "input_img = airspace_stack[0,:,:]\n",
    "sx = ndimage.sobel(input_img, axis=0, mode='constant')\n",
    "sy = ndimage.sobel(input_img, axis=1, mode='constant')\n",
    "sob = np.hypot(sx, sy)\n",
    "print(sob)\n",
    "plt.imshow(sob)\n",
    "plt.show()\n",
    "plt.imsave(filepath + '_airspace-outline-test.tif', sob)"
   ]
  },
  {
   "cell_type": "code",
   "execution_count": 75,
   "metadata": {},
   "outputs": [],
   "source": [
    "import scipy as sp\n",
    "from pprint import pprint\n",
    "#Load image\n",
    "im = input_img\n",
    "\n",
    "n, bins_edges = np.histogram(im.flatten(),bins = 100)\n",
    "# Skip the black area, and assume two distinct regions, white and grey\n",
    "max_counts = np.sort(n[bins_edges[0:-1] > 0])[-2:]\n",
    "thresholds = np.select(\n",
    "    [max_counts[i] == n for i in range(max_counts.shape[0])],\n",
    "    [bins_edges[0:-1]] * max_counts.shape[0]\n",
    ")\n",
    "# filter our the non zero values\n",
    "thresholds = thresholds[thresholds > 0] \n",
    "\n",
    "\n",
    "fig, axs = plt.subplots()\n",
    "# Display image\n",
    "axs.imshow(im, interpolation='nearest', cmap=plt.cm.gray)\n",
    "colors = ['r','g']\n"
   ]
  },
  {
   "cell_type": "code",
   "execution_count": 79,
   "metadata": {},
   "outputs": [
    {
     "data": {
      "text/plain": [
       "array([ 0.01,  0.02,  0.03,  0.04,  0.05,  0.06,  0.07,  0.08,  0.09,\n",
       "        0.1 ,  0.11,  0.12,  0.13,  0.14,  0.15,  0.16,  0.17,  0.18,\n",
       "        0.19,  0.2 ,  0.21,  0.22,  0.23,  0.24,  0.25,  0.26,  0.27,\n",
       "        0.28,  0.29,  0.3 ,  0.31,  0.32,  0.33,  0.34,  0.35,  0.36,\n",
       "        0.37,  0.38,  0.39,  0.4 ,  0.41,  0.42,  0.43,  0.44,  0.45,\n",
       "        0.46,  0.47,  0.48,  0.49,  0.5 ,  0.51,  0.52,  0.53,  0.54,\n",
       "        0.55,  0.56,  0.57,  0.58,  0.59,  0.6 ,  0.61,  0.62,  0.63,\n",
       "        0.64,  0.65,  0.66,  0.67,  0.68,  0.69,  0.7 ,  0.71,  0.72,\n",
       "        0.73,  0.74,  0.75,  0.76,  0.77,  0.78,  0.79,  0.8 ,  0.81,\n",
       "        0.82,  0.83,  0.84,  0.85,  0.86,  0.87,  0.88,  0.89,  0.9 ,\n",
       "        0.91,  0.92,  0.93,  0.94,  0.95,  0.96,  0.97,  0.98,  0.99])"
      ]
     },
     "execution_count": 79,
     "metadata": {},
     "output_type": "execute_result"
    }
   ],
   "source": [
    "thresholds"
   ]
  },
  {
   "cell_type": "code",
   "execution_count": 96,
   "metadata": {},
   "outputs": [],
   "source": [
    "for i, threshold in enumerate(thresholds):\n",
    "    contours = measure.find_contours(im, threshold)\n"
   ]
  },
  {
   "cell_type": "code",
   "execution_count": 84,
   "metadata": {},
   "outputs": [
    {
     "ename": "KeyboardInterrupt",
     "evalue": "",
     "output_type": "error",
     "traceback": [
      "\u001b[0;31m\u001b[0m",
      "\u001b[0;31mKeyboardInterrupt\u001b[0mTraceback (most recent call last)",
      "\u001b[0;32m<ipython-input-84-63d7caa87da5>\u001b[0m in \u001b[0;36m<module>\u001b[0;34m()\u001b[0m\n\u001b[1;32m      3\u001b[0m     \u001b[0;31m# Display  all contours found for this threshold\u001b[0m\u001b[0;34m\u001b[0m\u001b[0;34m\u001b[0m\u001b[0m\n\u001b[1;32m      4\u001b[0m     \u001b[0;32mfor\u001b[0m \u001b[0mn\u001b[0m\u001b[0;34m,\u001b[0m \u001b[0mcontour\u001b[0m \u001b[0;32min\u001b[0m \u001b[0menumerate\u001b[0m\u001b[0;34m(\u001b[0m\u001b[0mcontours\u001b[0m\u001b[0;34m)\u001b[0m\u001b[0;34m:\u001b[0m\u001b[0;34m\u001b[0m\u001b[0m\n\u001b[0;32m----> 5\u001b[0;31m         \u001b[0maxs\u001b[0m\u001b[0;34m.\u001b[0m\u001b[0mplot\u001b[0m\u001b[0;34m(\u001b[0m\u001b[0mcontour\u001b[0m\u001b[0;34m[\u001b[0m\u001b[0;34m:\u001b[0m\u001b[0;34m,\u001b[0m\u001b[0;36m1\u001b[0m\u001b[0;34m]\u001b[0m\u001b[0;34m,\u001b[0m \u001b[0mcontour\u001b[0m\u001b[0;34m[\u001b[0m\u001b[0;34m:\u001b[0m\u001b[0;34m,\u001b[0m\u001b[0;36m0\u001b[0m\u001b[0;34m]\u001b[0m\u001b[0;34m,\u001b[0m \u001b[0mlw\u001b[0m \u001b[0;34m=\u001b[0m \u001b[0;36m4\u001b[0m\u001b[0;34m)\u001b[0m\u001b[0;34m\u001b[0m\u001b[0m\n\u001b[0m\u001b[1;32m      6\u001b[0m \u001b[0;34m\u001b[0m\u001b[0m\n\u001b[1;32m      7\u001b[0m \u001b[0maxs\u001b[0m\u001b[0;34m.\u001b[0m\u001b[0maxis\u001b[0m\u001b[0;34m(\u001b[0m\u001b[0;34m'image'\u001b[0m\u001b[0;34m)\u001b[0m\u001b[0;34m\u001b[0m\u001b[0m\n",
      "\u001b[0;32m/Users/gtrancourt/anaconda2/lib/python2.7/site-packages/matplotlib/__init__.pyc\u001b[0m in \u001b[0;36minner\u001b[0;34m(ax, *args, **kwargs)\u001b[0m\n\u001b[1;32m   1708\u001b[0m                     warnings.warn(msg % (label_namer, func.__name__),\n\u001b[1;32m   1709\u001b[0m                                   RuntimeWarning, stacklevel=2)\n\u001b[0;32m-> 1710\u001b[0;31m             \u001b[0;32mreturn\u001b[0m \u001b[0mfunc\u001b[0m\u001b[0;34m(\u001b[0m\u001b[0max\u001b[0m\u001b[0;34m,\u001b[0m \u001b[0;34m*\u001b[0m\u001b[0margs\u001b[0m\u001b[0;34m,\u001b[0m \u001b[0;34m**\u001b[0m\u001b[0mkwargs\u001b[0m\u001b[0;34m)\u001b[0m\u001b[0;34m\u001b[0m\u001b[0m\n\u001b[0m\u001b[1;32m   1711\u001b[0m         \u001b[0mpre_doc\u001b[0m \u001b[0;34m=\u001b[0m \u001b[0minner\u001b[0m\u001b[0;34m.\u001b[0m\u001b[0m__doc__\u001b[0m\u001b[0;34m\u001b[0m\u001b[0m\n\u001b[1;32m   1712\u001b[0m         \u001b[0;32mif\u001b[0m \u001b[0mpre_doc\u001b[0m \u001b[0;32mis\u001b[0m \u001b[0mNone\u001b[0m\u001b[0;34m:\u001b[0m\u001b[0;34m\u001b[0m\u001b[0m\n",
      "\u001b[0;32m/Users/gtrancourt/anaconda2/lib/python2.7/site-packages/matplotlib/axes/_axes.pyc\u001b[0m in \u001b[0;36mplot\u001b[0;34m(self, *args, **kwargs)\u001b[0m\n\u001b[1;32m   1435\u001b[0m         \u001b[0mkwargs\u001b[0m \u001b[0;34m=\u001b[0m \u001b[0mcbook\u001b[0m\u001b[0;34m.\u001b[0m\u001b[0mnormalize_kwargs\u001b[0m\u001b[0;34m(\u001b[0m\u001b[0mkwargs\u001b[0m\u001b[0;34m,\u001b[0m \u001b[0m_alias_map\u001b[0m\u001b[0;34m)\u001b[0m\u001b[0;34m\u001b[0m\u001b[0m\n\u001b[1;32m   1436\u001b[0m \u001b[0;34m\u001b[0m\u001b[0m\n\u001b[0;32m-> 1437\u001b[0;31m         \u001b[0;32mfor\u001b[0m \u001b[0mline\u001b[0m \u001b[0;32min\u001b[0m \u001b[0mself\u001b[0m\u001b[0;34m.\u001b[0m\u001b[0m_get_lines\u001b[0m\u001b[0;34m(\u001b[0m\u001b[0;34m*\u001b[0m\u001b[0margs\u001b[0m\u001b[0;34m,\u001b[0m \u001b[0;34m**\u001b[0m\u001b[0mkwargs\u001b[0m\u001b[0;34m)\u001b[0m\u001b[0;34m:\u001b[0m\u001b[0;34m\u001b[0m\u001b[0m\n\u001b[0m\u001b[1;32m   1438\u001b[0m             \u001b[0mself\u001b[0m\u001b[0;34m.\u001b[0m\u001b[0madd_line\u001b[0m\u001b[0;34m(\u001b[0m\u001b[0mline\u001b[0m\u001b[0;34m)\u001b[0m\u001b[0;34m\u001b[0m\u001b[0m\n\u001b[1;32m   1439\u001b[0m             \u001b[0mlines\u001b[0m\u001b[0;34m.\u001b[0m\u001b[0mappend\u001b[0m\u001b[0;34m(\u001b[0m\u001b[0mline\u001b[0m\u001b[0;34m)\u001b[0m\u001b[0;34m\u001b[0m\u001b[0m\n",
      "\u001b[0;32m/Users/gtrancourt/anaconda2/lib/python2.7/site-packages/matplotlib/axes/_base.pyc\u001b[0m in \u001b[0;36m__call__\u001b[0;34m(self, *args, **kwargs)\u001b[0m\n\u001b[1;32m    193\u001b[0m                 \u001b[0mself\u001b[0m\u001b[0;34m.\u001b[0m\u001b[0maxes\u001b[0m\u001b[0;34m.\u001b[0m\u001b[0myaxis\u001b[0m\u001b[0;34m.\u001b[0m\u001b[0mset_units\u001b[0m\u001b[0;34m(\u001b[0m\u001b[0myunits\u001b[0m\u001b[0;34m)\u001b[0m\u001b[0;34m\u001b[0m\u001b[0m\n\u001b[1;32m    194\u001b[0m \u001b[0;34m\u001b[0m\u001b[0m\n\u001b[0;32m--> 195\u001b[0;31m         \u001b[0mret\u001b[0m \u001b[0;34m=\u001b[0m \u001b[0mself\u001b[0m\u001b[0;34m.\u001b[0m\u001b[0m_grab_next_args\u001b[0m\u001b[0;34m(\u001b[0m\u001b[0;34m*\u001b[0m\u001b[0margs\u001b[0m\u001b[0;34m,\u001b[0m \u001b[0;34m**\u001b[0m\u001b[0mkwargs\u001b[0m\u001b[0;34m)\u001b[0m\u001b[0;34m\u001b[0m\u001b[0m\n\u001b[0m\u001b[1;32m    196\u001b[0m         \u001b[0;32mreturn\u001b[0m \u001b[0mret\u001b[0m\u001b[0;34m\u001b[0m\u001b[0m\n\u001b[1;32m    197\u001b[0m \u001b[0;34m\u001b[0m\u001b[0m\n",
      "\u001b[0;31mKeyboardInterrupt\u001b[0m: "
     ]
    }
   ],
   "source": [
    "for i, threshold in enumerate(thresholds):\n",
    "    contours = measure.find_contours(im, threshold)\n",
    "    # Display  all contours found for this threshold\n",
    "    for n, contour in enumerate(contours):\n",
    "        axs.plot(contour[:,1], contour[:,0], lw = 4)\n",
    "\n",
    "axs.axis('image')\n",
    "axs.set_xticks([])\n",
    "axs.set_yticks([])        \n",
    "plt.show()"
   ]
  }
 ],
 "metadata": {
  "kernelspec": {
   "display_name": "Python 2",
   "language": "python",
   "name": "python2"
  },
  "language_info": {
   "codemirror_mode": {
    "name": "ipython",
    "version": 2
   },
   "file_extension": ".py",
   "mimetype": "text/x-python",
   "name": "python",
   "nbconvert_exporter": "python",
   "pygments_lexer": "ipython2",
   "version": "2.7.14"
  }
 },
 "nbformat": 4,
 "nbformat_minor": 2
}
